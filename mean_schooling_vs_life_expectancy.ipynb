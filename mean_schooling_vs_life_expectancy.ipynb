{
 "cells": [
  {
   "cell_type": "code",
   "execution_count": 124,
   "metadata": {},
   "outputs": [],
   "source": [
    "from IPython.display import display, Markdown\n",
    "import numpy as np\n",
    "import matplotlib.pyplot as plt\n",
    "import pandas as pd\n",
    "import scipy.stats as stats"
   ]
  },
  {
   "cell_type": "markdown",
   "metadata": {},
   "source": [
    "#### HDI rank:\n",
    "\n",
    "Type: Ordinal variable.\n",
    "\n",
    "Reason: The HDI rank represents a ranking of countries based on their Human Development Index. The order is meaningful, but the difference between ranks is not necessarily uniform.\n",
    "\n",
    "### Country:\n",
    "\n",
    "Type: Nominal variable.\n",
    "\n",
    "Reason: The names of countries are categorical and serve as labels. They do not imply any numerical or ranked relationship between them.\n",
    "\n",
    "### Human Development Index (HDI) Value:\n",
    "\n",
    "Type: Interval variable.\n",
    "\n",
    "Reason: HDI values represent a composite index on a scale (usually 0 to 1), with meaningful differences between values, but no true zero point.\n",
    "\n",
    "### Life expectancy at birth (years):\n",
    "\n",
    "Type: Ratio variable.\n",
    "\n",
    "Reason: Life expectancy is a continuous, quantitative measure with a meaningful zero point (0 years), allowing for meaningful comparisons of ratios (e.g., 80 years is twice as long as 40 years).\n",
    "\n",
    "### Expected years of schooling (years):\n",
    "\n",
    "Type: Ratio variable.\n",
    "\n",
    "Reason: This is a quantitative measure with a meaningful zero (0 years), and comparisons between values are meaningful in terms of ratios.\n",
    "\n",
    "### Mean years of schooling (years):\n",
    "\n",
    "Type: Ratio variable.\n",
    "\n",
    "Reason: Similar to expected years of schooling, mean years of schooling is a quantitative measure with a true zero point.\n",
    "\n",
    "### Gross national income (GNI) per capita (2017 PPP $):\n",
    "\n",
    "Type: Ratio variable.\n",
    "\n",
    "Reason: GNI per capita is a quantitative measure of income with a meaningful zero (no income), and you can compare income levels in terms of ratios.\n",
    "\n",
    "### GNI per capita rank minus HDI rank:\n",
    "Type: Ordinal variable.\n",
    "\n",
    "Reason: This represents the difference between two ranks (GNI and HDI ranks), which retains the properties of ordinal data because ranks are inherently ordered but not evenly spaced."
   ]
  },
  {
   "cell_type": "code",
   "execution_count": 125,
   "metadata": {},
   "outputs": [
    {
     "data": {
      "text/html": [
       "<div>\n",
       "<style scoped>\n",
       "    .dataframe tbody tr th:only-of-type {\n",
       "        vertical-align: middle;\n",
       "    }\n",
       "\n",
       "    .dataframe tbody tr th {\n",
       "        vertical-align: top;\n",
       "    }\n",
       "\n",
       "    .dataframe thead th {\n",
       "        text-align: right;\n",
       "    }\n",
       "</style>\n",
       "<table border=\"1\" class=\"dataframe\">\n",
       "  <thead>\n",
       "    <tr style=\"text-align: right;\">\n",
       "      <th></th>\n",
       "      <th>rank</th>\n",
       "      <th>country</th>\n",
       "      <th>HDI</th>\n",
       "      <th>life_expectancy</th>\n",
       "      <th>expect_schooling_years</th>\n",
       "      <th>mean_schooling_years</th>\n",
       "      <th>GNI</th>\n",
       "      <th>GNI_per_capita</th>\n",
       "      <th>HDI rank</th>\n",
       "    </tr>\n",
       "  </thead>\n",
       "  <tbody>\n",
       "    <tr>\n",
       "      <th>0</th>\n",
       "      <td>1</td>\n",
       "      <td>Switzerland</td>\n",
       "      <td>0.967</td>\n",
       "      <td>84.3</td>\n",
       "      <td>16.6</td>\n",
       "      <td>13.9</td>\n",
       "      <td>69,433</td>\n",
       "      <td>6</td>\n",
       "      <td>1.0</td>\n",
       "    </tr>\n",
       "    <tr>\n",
       "      <th>1</th>\n",
       "      <td>2</td>\n",
       "      <td>Norway</td>\n",
       "      <td>0.966</td>\n",
       "      <td>83.4</td>\n",
       "      <td>18.6</td>\n",
       "      <td>13.1</td>\n",
       "      <td>69,190</td>\n",
       "      <td>6</td>\n",
       "      <td>2.0</td>\n",
       "    </tr>\n",
       "    <tr>\n",
       "      <th>2</th>\n",
       "      <td>3</td>\n",
       "      <td>Iceland</td>\n",
       "      <td>0.959</td>\n",
       "      <td>82.8</td>\n",
       "      <td>19.1</td>\n",
       "      <td>13.8</td>\n",
       "      <td>54,688</td>\n",
       "      <td>16</td>\n",
       "      <td>4.0</td>\n",
       "    </tr>\n",
       "    <tr>\n",
       "      <th>3</th>\n",
       "      <td>4</td>\n",
       "      <td>Hong Kong, China (SAR)</td>\n",
       "      <td>0.956</td>\n",
       "      <td>84.3</td>\n",
       "      <td>17.8</td>\n",
       "      <td>12.3</td>\n",
       "      <td>62,486</td>\n",
       "      <td>6</td>\n",
       "      <td>3.0</td>\n",
       "    </tr>\n",
       "    <tr>\n",
       "      <th>4</th>\n",
       "      <td>5</td>\n",
       "      <td>Denmark</td>\n",
       "      <td>0.952</td>\n",
       "      <td>81.9</td>\n",
       "      <td>18.8</td>\n",
       "      <td>13.0</td>\n",
       "      <td>62,019</td>\n",
       "      <td>6</td>\n",
       "      <td>8.0</td>\n",
       "    </tr>\n",
       "  </tbody>\n",
       "</table>\n",
       "</div>"
      ],
      "text/plain": [
       "   rank                 country    HDI  life_expectancy  \\\n",
       "0     1             Switzerland  0.967             84.3   \n",
       "1     2                  Norway  0.966             83.4   \n",
       "2     3                 Iceland  0.959             82.8   \n",
       "3     4  Hong Kong, China (SAR)  0.956             84.3   \n",
       "4     5                 Denmark  0.952             81.9   \n",
       "\n",
       "   expect_schooling_years  mean_schooling_years     GNI  GNI_per_capita  \\\n",
       "0                    16.6                  13.9  69,433               6   \n",
       "1                    18.6                  13.1  69,190               6   \n",
       "2                    19.1                  13.8  54,688              16   \n",
       "3                    17.8                  12.3  62,486               6   \n",
       "4                    18.8                  13.0  62,019               6   \n",
       "\n",
       "   HDI rank  \n",
       "0       1.0  \n",
       "1       2.0  \n",
       "2       4.0  \n",
       "3       3.0  \n",
       "4       8.0  "
      ]
     },
     "execution_count": 125,
     "metadata": {},
     "output_type": "execute_result"
    }
   ],
   "source": [
    "data = pd.read_csv('./hdi_cleaned.csv')\n",
    "data.head()"
   ]
  },
  {
   "cell_type": "code",
   "execution_count": 126,
   "metadata": {},
   "outputs": [
    {
     "data": {
      "text/html": [
       "<div>\n",
       "<style scoped>\n",
       "    .dataframe tbody tr th:only-of-type {\n",
       "        vertical-align: middle;\n",
       "    }\n",
       "\n",
       "    .dataframe tbody tr th {\n",
       "        vertical-align: top;\n",
       "    }\n",
       "\n",
       "    .dataframe thead th {\n",
       "        text-align: right;\n",
       "    }\n",
       "</style>\n",
       "<table border=\"1\" class=\"dataframe\">\n",
       "  <thead>\n",
       "    <tr style=\"text-align: right;\">\n",
       "      <th></th>\n",
       "      <th>rank</th>\n",
       "      <th>HDI</th>\n",
       "      <th>life_expectancy</th>\n",
       "      <th>expect_schooling_years</th>\n",
       "      <th>mean_schooling_years</th>\n",
       "      <th>GNI_per_capita</th>\n",
       "      <th>HDI rank</th>\n",
       "    </tr>\n",
       "  </thead>\n",
       "  <tbody>\n",
       "    <tr>\n",
       "      <th>count</th>\n",
       "      <td>193.000000</td>\n",
       "      <td>193.000000</td>\n",
       "      <td>193.000000</td>\n",
       "      <td>193.000000</td>\n",
       "      <td>193.000000</td>\n",
       "      <td>193.000000</td>\n",
       "      <td>191.000000</td>\n",
       "    </tr>\n",
       "    <tr>\n",
       "      <th>mean</th>\n",
       "      <td>96.854922</td>\n",
       "      <td>0.723741</td>\n",
       "      <td>71.844560</td>\n",
       "      <td>13.535751</td>\n",
       "      <td>9.011917</td>\n",
       "      <td>0.145078</td>\n",
       "      <td>96.146597</td>\n",
       "    </tr>\n",
       "    <tr>\n",
       "      <th>std</th>\n",
       "      <td>55.911665</td>\n",
       "      <td>0.155177</td>\n",
       "      <td>7.861522</td>\n",
       "      <td>3.029098</td>\n",
       "      <td>3.221399</td>\n",
       "      <td>14.575939</td>\n",
       "      <td>55.675559</td>\n",
       "    </tr>\n",
       "    <tr>\n",
       "      <th>min</th>\n",
       "      <td>1.000000</td>\n",
       "      <td>0.380000</td>\n",
       "      <td>53.000000</td>\n",
       "      <td>5.600000</td>\n",
       "      <td>1.300000</td>\n",
       "      <td>-54.000000</td>\n",
       "      <td>1.000000</td>\n",
       "    </tr>\n",
       "    <tr>\n",
       "      <th>25%</th>\n",
       "      <td>49.000000</td>\n",
       "      <td>0.602000</td>\n",
       "      <td>65.900000</td>\n",
       "      <td>11.600000</td>\n",
       "      <td>6.500000</td>\n",
       "      <td>-9.000000</td>\n",
       "      <td>48.500000</td>\n",
       "    </tr>\n",
       "    <tr>\n",
       "      <th>50%</th>\n",
       "      <td>97.000000</td>\n",
       "      <td>0.740000</td>\n",
       "      <td>72.200000</td>\n",
       "      <td>13.300000</td>\n",
       "      <td>9.400000</td>\n",
       "      <td>2.000000</td>\n",
       "      <td>95.000000</td>\n",
       "    </tr>\n",
       "    <tr>\n",
       "      <th>75%</th>\n",
       "      <td>145.000000</td>\n",
       "      <td>0.847000</td>\n",
       "      <td>77.900000</td>\n",
       "      <td>15.700000</td>\n",
       "      <td>11.700000</td>\n",
       "      <td>9.000000</td>\n",
       "      <td>144.500000</td>\n",
       "    </tr>\n",
       "    <tr>\n",
       "      <th>max</th>\n",
       "      <td>193.000000</td>\n",
       "      <td>0.967000</td>\n",
       "      <td>84.800000</td>\n",
       "      <td>21.100000</td>\n",
       "      <td>14.300000</td>\n",
       "      <td>40.000000</td>\n",
       "      <td>192.000000</td>\n",
       "    </tr>\n",
       "  </tbody>\n",
       "</table>\n",
       "</div>"
      ],
      "text/plain": [
       "             rank         HDI  life_expectancy  expect_schooling_years  \\\n",
       "count  193.000000  193.000000       193.000000              193.000000   \n",
       "mean    96.854922    0.723741        71.844560               13.535751   \n",
       "std     55.911665    0.155177         7.861522                3.029098   \n",
       "min      1.000000    0.380000        53.000000                5.600000   \n",
       "25%     49.000000    0.602000        65.900000               11.600000   \n",
       "50%     97.000000    0.740000        72.200000               13.300000   \n",
       "75%    145.000000    0.847000        77.900000               15.700000   \n",
       "max    193.000000    0.967000        84.800000               21.100000   \n",
       "\n",
       "       mean_schooling_years  GNI_per_capita    HDI rank  \n",
       "count            193.000000      193.000000  191.000000  \n",
       "mean               9.011917        0.145078   96.146597  \n",
       "std                3.221399       14.575939   55.675559  \n",
       "min                1.300000      -54.000000    1.000000  \n",
       "25%                6.500000       -9.000000   48.500000  \n",
       "50%                9.400000        2.000000   95.000000  \n",
       "75%               11.700000        9.000000  144.500000  \n",
       "max               14.300000       40.000000  192.000000  "
      ]
     },
     "execution_count": 126,
     "metadata": {},
     "output_type": "execute_result"
    }
   ],
   "source": [
    "data_description = data.describe()\n",
    "\n",
    "data_description"
   ]
  },
  {
   "cell_type": "markdown",
   "metadata": {},
   "source": [
    "---\n",
    "\n",
    "# Correlation between life expectancy and educational attainment"
   ]
  },
  {
   "cell_type": "markdown",
   "metadata": {},
   "source": [
    "A country's life expectancy aligns with SDG 3: Good Health and Well Being\n",
    "\n",
    "Life expectancy is a key  measure of public, and reflects overall health. Healthcare quality and general living conditions in a country. It\n",
    "provide's insight of health outcomes of a population.\n",
    "\n",
    "A country's educational attainment aligns  SDG 4: Quality education.\n",
    "\n",
    "Countries with higher years of education generally experience higher life expectancy, economic growth, political stability, and lower poverty and mortality rates, as education enhances health awareness, job opportunities, and civic engagement. These benefits illustrate how education fosters healthier, more prosperous, and more equitable societies.\n",
    "\n",
    "For our analysis, we'll focus on SDG 4.4 (mean school years), tho both SDG 4.3 and 4.4 data can provide useful insights, a country's mean years of education is generally more relevant than expected years of education because it reflects educational experience that the current adult has actually achieved and therefore can be a stronger predictor on how much it affects a country's life expectancy.\n",
    "\n",
    "Our analysis consists of finding how much realized education affects a life expectancy of a country, therefore mean schooling years will be the independent variable and the life expectancy will be the dependent variable."
   ]
  },
  {
   "cell_type": "markdown",
   "metadata": {},
   "source": [
    "* Dependent Variable: Life Expectancy\n",
    "* Independent Variable: Mean Schooling Years"
   ]
  },
  {
   "cell_type": "markdown",
   "metadata": {},
   "source": [
    "## Describing Life Expectancy"
   ]
  },
  {
   "cell_type": "code",
   "execution_count": 127,
   "metadata": {},
   "outputs": [
    {
     "data": {
      "text/markdown": [
       "Life Expectancy: "
      ],
      "text/plain": [
       "<IPython.core.display.Markdown object>"
      ]
     },
     "metadata": {},
     "output_type": "display_data"
    },
    {
     "data": {
      "text/markdown": [
       "$$\\mu=71.84$$"
      ],
      "text/plain": [
       "<IPython.core.display.Markdown object>"
      ]
     },
     "metadata": {},
     "output_type": "display_data"
    },
    {
     "data": {
      "text/markdown": [
       "$$\\sigma=7.86$$"
      ],
      "text/plain": [
       "<IPython.core.display.Markdown object>"
      ]
     },
     "metadata": {},
     "output_type": "display_data"
    }
   ],
   "source": [
    "display(Markdown(f\"Life Expectancy: \"))\n",
    "display(Markdown(f\"$$\\mu={data.life_expectancy.mean():.2f}$$\"))\n",
    "display(Markdown(f\"$$\\sigma={data.life_expectancy.std():.2f}$$\"))"
   ]
  },
  {
   "cell_type": "markdown",
   "metadata": {},
   "source": [
    "## Describing Mean Schooling Years"
   ]
  },
  {
   "cell_type": "markdown",
   "metadata": {},
   "source": [
    "* The dataset caps at 14.3 years"
   ]
  },
  {
   "cell_type": "code",
   "execution_count": 128,
   "metadata": {},
   "outputs": [
    {
     "data": {
      "text/markdown": [
       "Mean Schooling years: "
      ],
      "text/plain": [
       "<IPython.core.display.Markdown object>"
      ]
     },
     "metadata": {},
     "output_type": "display_data"
    },
    {
     "data": {
      "text/markdown": [
       "$$\\mu=9.01$$"
      ],
      "text/plain": [
       "<IPython.core.display.Markdown object>"
      ]
     },
     "metadata": {},
     "output_type": "display_data"
    },
    {
     "data": {
      "text/markdown": [
       "$$\\sigma=3.22$$"
      ],
      "text/plain": [
       "<IPython.core.display.Markdown object>"
      ]
     },
     "metadata": {},
     "output_type": "display_data"
    }
   ],
   "source": [
    "display(Markdown(f\"Mean Schooling years: \"))\n",
    "display(Markdown(f\"$$\\mu={data.mean_schooling_years.mean():.2f}$$\"))\n",
    "display(Markdown(f\"$$\\sigma={data.mean_schooling_years.std():.2f}$$\"))"
   ]
  },
  {
   "cell_type": "code",
   "execution_count": 129,
   "metadata": {},
   "outputs": [
    {
     "data": {
      "image/png": "[encoded data removed]",
      "text/plain": [
       "<Figure size 640x480 with 1 Axes>"
      ]
     },
     "metadata": {},
     "output_type": "display_data"
    }
   ],
   "source": [
    "# independent variable, dependent variable\n",
    "life_expectancy = data[\"life_expectancy\"]\n",
    "mean_schooling_years = data[\"mean_schooling_years\"]\n",
    "\n",
    "# the indepdent variable is plotted on the x axis and dependent variable is plotted on the y axis\n",
    "plt.scatter(mean_schooling_years, life_expectancy, color=\"g\", alpha=0.5)\n",
    "plt.title(\"Mean Schooling Years and Life expectancy\")\n",
    "plt.xlabel(\"mean schooling years\")\n",
    "plt.ylabel(\"life expectancy\")\n",
    "plt.show()"
   ]
  },
  {
   "cell_type": "markdown",
   "metadata": {},
   "source": [
    "Since both mean schooling years and life expectancy are both ratio variables we can appropriately analyze their relation with Pearson's coefficient."
   ]
  },
  {
   "cell_type": "code",
   "execution_count": 130,
   "metadata": {},
   "outputs": [
    {
     "name": "stdout",
     "output_type": "stream",
     "text": [
      "Pearsons Correlation Coefficient: 0.72\n"
     ]
    },
    {
     "data": {
      "text/markdown": [
       "$$r=0.72$$"
      ],
      "text/plain": [
       "<IPython.core.display.Markdown object>"
      ]
     },
     "metadata": {},
     "output_type": "display_data"
    }
   ],
   "source": [
    "r = mean_schooling_years.corr(life_expectancy)\n",
    "print(f\"Pearsons Correlation Coefficient: {r:.2f}\")\n",
    "display(Markdown(f\"$$r={r:.2f}$$\"))"
   ]
  },
  {
   "cell_type": "markdown",
   "metadata": {},
   "source": [
    "|Correlation Coefficient (r)|\tInterpretation|\n",
    "| --- | --- |\n",
    "| 1.0 | Perfect Positive Correlation |\n",
    "| 0.7 to 0.99 | Strong Positive Correlation |\n",
    "| 0.3 to 0.69 |\tModerate Positive Correlation |\n",
    "| 0 to 0.29\t| Weak Positive Correlation |\n",
    "| 0\t| No Correlation | \n",
    "| -0.29 to 0 | Weak Negative Correlation | \n",
    "| -0.3 to -0.69 |\tModerate Negative Correlation |\n",
    "| -0.7 to -0.99\t| Strong Negative Correlation |\n",
    "| -1.0\tPerfect | Negative Correlation |"
   ]
  },
  {
   "cell_type": "code",
   "execution_count": 131,
   "metadata": {},
   "outputs": [
    {
     "data": {
      "text/markdown": [
       "$$r^2=0.5162$$"
      ],
      "text/plain": [
       "<IPython.core.display.Markdown object>"
      ]
     },
     "metadata": {},
     "output_type": "display_data"
    },
    {
     "data": {
      "text/markdown": [
       "$$or$$"
      ],
      "text/plain": [
       "<IPython.core.display.Markdown object>"
      ]
     },
     "metadata": {},
     "output_type": "display_data"
    },
    {
     "data": {
      "text/markdown": [
       "$$51.62\\%$$"
      ],
      "text/plain": [
       "<IPython.core.display.Markdown object>"
      ]
     },
     "metadata": {},
     "output_type": "display_data"
    }
   ],
   "source": [
    "# coefficient of determinance, how much the data fits the model\n",
    "display(Markdown(f\"$$r^2={(r*r):.4f}$$\"))\n",
    "display(Markdown(f\"$$or$$\"))\n",
    "display(Markdown(f\"$${(r*r) * 100:.2f}\\%$$\"))"
   ]
  },
  {
   "cell_type": "markdown",
   "metadata": {},
   "source": [
    "|Coefficient of determination (R2)|Interpretation|\n",
    "|---|---|\n",
    "|0|The model does not predict the outcome.|\n",
    "|Between 0 and 1|The model partially predicts the outcome.|\n",
    "|1|The model perfectly predicts the outcome.|"
   ]
  },
  {
   "cell_type": "markdown",
   "metadata": {},
   "source": [
    "This indicates that $r^2$ of 0.52 or $51.62%$ of the variability is explained by the Mean School Years. This shows that slightly over half the changes in life expectancy can be attributed by the mean years of schooling."
   ]
  },
  {
   "cell_type": "markdown",
   "metadata": {},
   "source": [
    "$$y=mx + b$$\n",
    "\n",
    "* $y$ is the dependent variable or the life expectancy\n",
    "* $x$ is the independent variable or the mean schooling years\n",
    "* $b$ is the intercept of the regression line when the expected value of life expectancy $y$ when $x = 0$\n",
    "* $m$ is the slope of the regression line, the change in $y$ for one unit increase in $x$"
   ]
  },
  {
   "cell_type": "code",
   "execution_count": 132,
   "metadata": {},
   "outputs": [
    {
     "data": {
      "text/markdown": [
       "$$m=\\frac{dy}{dx}=1.75$$"
      ],
      "text/plain": [
       "<IPython.core.display.Markdown object>"
      ]
     },
     "metadata": {},
     "output_type": "display_data"
    },
    {
     "data": {
      "text/markdown": [
       "$$b=56.02$$"
      ],
      "text/plain": [
       "<IPython.core.display.Markdown object>"
      ]
     },
     "metadata": {},
     "output_type": "display_data"
    },
    {
     "data": {
      "text/markdown": [
       "$$y = 1.75x + 56.04$$"
      ],
      "text/plain": [
       "<IPython.core.display.Markdown object>"
      ]
     },
     "metadata": {},
     "output_type": "display_data"
    }
   ],
   "source": [
    "# calculate m and b respectively (lots of formulas here)\n",
    "slope, intercept = np.polyfit(mean_schooling_years, life_expectancy, 1)\n",
    "\n",
    "# create the regression line\n",
    "data['predicted_life_expectancy'] = intercept + slope * mean_schooling_years\n",
    "\n",
    "display(Markdown(f\"$$m=\\\\frac{{dy}}{{dx}}={slope:.2f}$$\"))\n",
    "display(Markdown(f\"$$b=56.02$$\"))\n",
    "display(Markdown(f\"$$y = {slope:.2f}x + {intercept:.2f}$$\"))"
   ]
  },
  {
   "cell_type": "code",
   "execution_count": 138,
   "metadata": {},
   "outputs": [
    {
     "data": {
      "text/html": [
       "<div>\n",
       "<style scoped>\n",
       "    .dataframe tbody tr th:only-of-type {\n",
       "        vertical-align: middle;\n",
       "    }\n",
       "\n",
       "    .dataframe tbody tr th {\n",
       "        vertical-align: top;\n",
       "    }\n",
       "\n",
       "    .dataframe thead th {\n",
       "        text-align: right;\n",
       "    }\n",
       "</style>\n",
       "<table border=\"1\" class=\"dataframe\">\n",
       "  <thead>\n",
       "    <tr style=\"text-align: right;\">\n",
       "      <th></th>\n",
       "      <th>x (Mean Schooling Years)</th>\n",
       "      <th>y (Life Expectancy)</th>\n",
       "    </tr>\n",
       "  </thead>\n",
       "  <tbody>\n",
       "    <tr>\n",
       "      <th>0</th>\n",
       "      <td>0</td>\n",
       "      <td>56.04</td>\n",
       "    </tr>\n",
       "    <tr>\n",
       "      <th>1</th>\n",
       "      <td>1</td>\n",
       "      <td>57.79</td>\n",
       "    </tr>\n",
       "    <tr>\n",
       "      <th>2</th>\n",
       "      <td>2</td>\n",
       "      <td>59.54</td>\n",
       "    </tr>\n",
       "    <tr>\n",
       "      <th>3</th>\n",
       "      <td>3</td>\n",
       "      <td>61.29</td>\n",
       "    </tr>\n",
       "    <tr>\n",
       "      <th>4</th>\n",
       "      <td>4</td>\n",
       "      <td>63.04</td>\n",
       "    </tr>\n",
       "    <tr>\n",
       "      <th>5</th>\n",
       "      <td>5</td>\n",
       "      <td>64.79</td>\n",
       "    </tr>\n",
       "    <tr>\n",
       "      <th>6</th>\n",
       "      <td>6</td>\n",
       "      <td>66.54</td>\n",
       "    </tr>\n",
       "    <tr>\n",
       "      <th>7</th>\n",
       "      <td>7</td>\n",
       "      <td>68.29</td>\n",
       "    </tr>\n",
       "    <tr>\n",
       "      <th>8</th>\n",
       "      <td>8</td>\n",
       "      <td>70.04</td>\n",
       "    </tr>\n",
       "    <tr>\n",
       "      <th>9</th>\n",
       "      <td>9</td>\n",
       "      <td>71.79</td>\n",
       "    </tr>\n",
       "    <tr>\n",
       "      <th>10</th>\n",
       "      <td>10</td>\n",
       "      <td>73.54</td>\n",
       "    </tr>\n",
       "    <tr>\n",
       "      <th>11</th>\n",
       "      <td>11</td>\n",
       "      <td>75.29</td>\n",
       "    </tr>\n",
       "    <tr>\n",
       "      <th>12</th>\n",
       "      <td>12</td>\n",
       "      <td>77.04</td>\n",
       "    </tr>\n",
       "    <tr>\n",
       "      <th>13</th>\n",
       "      <td>13</td>\n",
       "      <td>78.79</td>\n",
       "    </tr>\n",
       "  </tbody>\n",
       "</table>\n",
       "</div>"
      ],
      "text/plain": [
       "    x (Mean Schooling Years)  y (Life Expectancy)\n",
       "0                          0                56.04\n",
       "1                          1                57.79\n",
       "2                          2                59.54\n",
       "3                          3                61.29\n",
       "4                          4                63.04\n",
       "5                          5                64.79\n",
       "6                          6                66.54\n",
       "7                          7                68.29\n",
       "8                          8                70.04\n",
       "9                          9                71.79\n",
       "10                        10                73.54\n",
       "11                        11                75.29\n",
       "12                        12                77.04\n",
       "13                        13                78.79"
      ]
     },
     "execution_count": 138,
     "metadata": {},
     "output_type": "execute_result"
    }
   ],
   "source": [
    "def regression_formula(x):\n",
    "    return 1.75*x+56.04\n",
    "\n",
    "# Generate values for x\n",
    "# increases for each unit of 1 year\n",
    "x_values = range(0, 14, 1)\n",
    "\n",
    "# Calculate y values using the regression formula\n",
    "y_values = [regression_formula(x) for x in x_values]\n",
    "\n",
    "# Create a DataFrame to display the values as a table\n",
    "final_prediction = pd.DataFrame({\n",
    "    'x (Mean Schooling Years)': x_values,\n",
    "    'y (Life Expectancy)': y_values\n",
    "})\n",
    "\n",
    "# Display the table\n",
    "final_prediction"
   ]
  },
  {
   "cell_type": "code",
   "execution_count": 134,
   "metadata": {},
   "outputs": [
    {
     "data": {
      "image/png": "[encoded data removed]",
      "text/plain": [
       "<Figure size 640x480 with 1 Axes>"
      ]
     },
     "metadata": {},
     "output_type": "display_data"
    }
   ],
   "source": [
    "# Plot the regression line\n",
    "plt.plot(mean_schooling_years, data['predicted_life_expectancy'], color='red', label='Regression Line')\n",
    "\n",
    "# the indepdent variable is plotted on the x axis and dependent variable is plotted on the y axis\n",
    "plt.scatter(mean_schooling_years, life_expectancy, color=\"g\", alpha=0.5)\n",
    "plt.title(\"Mean Schooling Years and Life expectancy\")\n",
    "plt.xlabel(\"mean schooling years\")\n",
    "plt.ylabel(\"life expectancy\")\n",
    "plt.legend()\n",
    "plt.show()"
   ]
  },
  {
   "cell_type": "markdown",
   "metadata": {},
   "source": [
    "For each increase of 1 year increase of mean years of schooling $x$ we'd see a $1.75$ years increase in life expectancy which is quite noticeable."
   ]
  },
  {
   "cell_type": "markdown",
   "metadata": {},
   "source": [
    "## Testing"
   ]
  },
  {
   "cell_type": "markdown",
   "metadata": {},
   "source": [
    "If I want to have a life expectancy of $80$ years, how many mean years of schooling do I need?\n"
   ]
  },
  {
   "cell_type": "markdown",
   "metadata": {},
   "source": [
    "$$y=1.75x+56.04$$\n",
    "$$y = 80$$\n",
    "$$80=1.75x+56.04$$\n",
    "$$80-56.04=1.75x+56.04$$\n",
    "$$23.96=1.75x$$\n",
    "$$\\frac{23.96}{1.75}=\\frac{1.75x}{1.75}$$\n",
    "$$x=13.69$$"
   ]
  },
  {
   "cell_type": "markdown",
   "metadata": {},
   "source": [
    "We would need a 13.69 mean years of schooling to have a life expectancy of 80"
   ]
  }
 ],
 "metadata": {
  "kernelspec": {
   "display_name": "Python 3",
   "language": "python",
   "name": "python3"
  },
  "language_info": {
   "codemirror_mode": {
    "name": "ipython",
    "version": 3
   },
   "file_extension": ".py",
   "mimetype": "text/x-python",
   "name": "python",
   "nbconvert_exporter": "python",
   "pygments_lexer": "ipython3",
   "version": "3.8.2"
  }
 },
 "nbformat": 4,
 "nbformat_minor": 2
}
