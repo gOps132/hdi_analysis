{
 "cells": [
  {
   "cell_type": "code",
   "execution_count": 39,
   "metadata": {},
   "outputs": [],
   "source": [
    "from IPython.display import display, Markdown\n",
    "import numpy as np\n",
    "import matplotlib.pyplot as plt\n",
    "import pandas as pd\n",
    "import scipy.stats as stats"
   ]
  },
  {
   "cell_type": "markdown",
   "metadata": {},
   "source": [
    "#### HDI rank:\n",
    "\n",
    "Type: Ordinal variable.\n",
    "\n",
    "Reason: The HDI rank represents a ranking of countries based on their Human Development Index. The order is meaningful, but the difference between ranks is not necessarily uniform.\n",
    "\n",
    "### Country:\n",
    "\n",
    "Type: Nominal variable.\n",
    "\n",
    "Reason: The names of countries are categorical and serve as labels. They do not imply any numerical or ranked relationship between them.\n",
    "\n",
    "### Human Development Index (HDI) Value:\n",
    "\n",
    "Type: Interval variable.\n",
    "\n",
    "Reason: HDI values represent a composite index on a scale (usually 0 to 1), with meaningful differences between values, but no true zero point.\n",
    "\n",
    "### Life expectancy at birth (years):\n",
    "\n",
    "Type: Ratio variable.\n",
    "\n",
    "Reason: Life expectancy is a continuous, quantitative measure with a meaningful zero point (0 years), allowing for meaningful comparisons of ratios (e.g., 80 years is twice as long as 40 years).\n",
    "\n",
    "### Expected years of schooling (years):\n",
    "\n",
    "Type: Ratio variable.\n",
    "\n",
    "Reason: This is a quantitative measure with a meaningful zero (0 years), and comparisons between values are meaningful in terms of ratios.\n",
    "\n",
    "### Mean years of schooling (years):\n",
    "\n",
    "Type: Ratio variable.\n",
    "\n",
    "Reason: Similar to expected years of schooling, mean years of schooling is a quantitative measure with a true zero point.\n",
    "\n",
    "### Gross national income (GNI) per capita (2017 PPP $):\n",
    "\n",
    "Type: Ratio variable.\n",
    "\n",
    "Reason: GNI per capita is a quantitative measure of income with a meaningful zero (no income), and you can compare income levels in terms of ratios.\n",
    "\n",
    "### GNI per capita rank minus HDI rank:\n",
    "Type: Ordinal variable.\n",
    "\n",
    "Reason: This represents the difference between two ranks (GNI and HDI ranks), which retains the properties of ordinal data because ranks are inherently ordered but not evenly spaced."
   ]
  },
  {
   "cell_type": "code",
   "execution_count": 40,
   "metadata": {},
   "outputs": [
    {
     "data": {
      "text/html": [
       "<div>\n",
       "<style scoped>\n",
       "    .dataframe tbody tr th:only-of-type {\n",
       "        vertical-align: middle;\n",
       "    }\n",
       "\n",
       "    .dataframe tbody tr th {\n",
       "        vertical-align: top;\n",
       "    }\n",
       "\n",
       "    .dataframe thead th {\n",
       "        text-align: right;\n",
       "    }\n",
       "</style>\n",
       "<table border=\"1\" class=\"dataframe\">\n",
       "  <thead>\n",
       "    <tr style=\"text-align: right;\">\n",
       "      <th></th>\n",
       "      <th>rank</th>\n",
       "      <th>country</th>\n",
       "      <th>HDI</th>\n",
       "      <th>life_expectancy</th>\n",
       "      <th>expect_schooling_years</th>\n",
       "      <th>mean_schooling_years</th>\n",
       "      <th>GNI</th>\n",
       "      <th>GNI_per_capita</th>\n",
       "      <th>HDI rank</th>\n",
       "    </tr>\n",
       "  </thead>\n",
       "  <tbody>\n",
       "    <tr>\n",
       "      <th>0</th>\n",
       "      <td>1</td>\n",
       "      <td>Switzerland</td>\n",
       "      <td>0.967</td>\n",
       "      <td>84.3</td>\n",
       "      <td>16.6</td>\n",
       "      <td>13.9</td>\n",
       "      <td>69,433</td>\n",
       "      <td>6</td>\n",
       "      <td>1.0</td>\n",
       "    </tr>\n",
       "    <tr>\n",
       "      <th>1</th>\n",
       "      <td>2</td>\n",
       "      <td>Norway</td>\n",
       "      <td>0.966</td>\n",
       "      <td>83.4</td>\n",
       "      <td>18.6</td>\n",
       "      <td>13.1</td>\n",
       "      <td>69,190</td>\n",
       "      <td>6</td>\n",
       "      <td>2.0</td>\n",
       "    </tr>\n",
       "    <tr>\n",
       "      <th>2</th>\n",
       "      <td>3</td>\n",
       "      <td>Iceland</td>\n",
       "      <td>0.959</td>\n",
       "      <td>82.8</td>\n",
       "      <td>19.1</td>\n",
       "      <td>13.8</td>\n",
       "      <td>54,688</td>\n",
       "      <td>16</td>\n",
       "      <td>4.0</td>\n",
       "    </tr>\n",
       "    <tr>\n",
       "      <th>3</th>\n",
       "      <td>4</td>\n",
       "      <td>Hong Kong, China (SAR)</td>\n",
       "      <td>0.956</td>\n",
       "      <td>84.3</td>\n",
       "      <td>17.8</td>\n",
       "      <td>12.3</td>\n",
       "      <td>62,486</td>\n",
       "      <td>6</td>\n",
       "      <td>3.0</td>\n",
       "    </tr>\n",
       "    <tr>\n",
       "      <th>4</th>\n",
       "      <td>5</td>\n",
       "      <td>Denmark</td>\n",
       "      <td>0.952</td>\n",
       "      <td>81.9</td>\n",
       "      <td>18.8</td>\n",
       "      <td>13.0</td>\n",
       "      <td>62,019</td>\n",
       "      <td>6</td>\n",
       "      <td>8.0</td>\n",
       "    </tr>\n",
       "  </tbody>\n",
       "</table>\n",
       "</div>"
      ],
      "text/plain": [
       "   rank                 country    HDI  life_expectancy  \\\n",
       "0     1             Switzerland  0.967             84.3   \n",
       "1     2                  Norway  0.966             83.4   \n",
       "2     3                 Iceland  0.959             82.8   \n",
       "3     4  Hong Kong, China (SAR)  0.956             84.3   \n",
       "4     5                 Denmark  0.952             81.9   \n",
       "\n",
       "   expect_schooling_years  mean_schooling_years     GNI  GNI_per_capita  \\\n",
       "0                    16.6                  13.9  69,433               6   \n",
       "1                    18.6                  13.1  69,190               6   \n",
       "2                    19.1                  13.8  54,688              16   \n",
       "3                    17.8                  12.3  62,486               6   \n",
       "4                    18.8                  13.0  62,019               6   \n",
       "\n",
       "   HDI rank  \n",
       "0       1.0  \n",
       "1       2.0  \n",
       "2       4.0  \n",
       "3       3.0  \n",
       "4       8.0  "
      ]
     },
     "execution_count": 40,
     "metadata": {},
     "output_type": "execute_result"
    }
   ],
   "source": [
    "data = pd.read_csv('./hdi_cleaned.csv')\n",
    "data.head()"
   ]
  },
  {
   "cell_type": "code",
   "execution_count": 41,
   "metadata": {},
   "outputs": [],
   "source": [
    "data_description = data.describe()"
   ]
  },
  {
   "cell_type": "code",
   "execution_count": 42,
   "metadata": {},
   "outputs": [
    {
     "data": {
      "text/html": [
       "<div>\n",
       "<style scoped>\n",
       "    .dataframe tbody tr th:only-of-type {\n",
       "        vertical-align: middle;\n",
       "    }\n",
       "\n",
       "    .dataframe tbody tr th {\n",
       "        vertical-align: top;\n",
       "    }\n",
       "\n",
       "    .dataframe thead th {\n",
       "        text-align: right;\n",
       "    }\n",
       "</style>\n",
       "<table border=\"1\" class=\"dataframe\">\n",
       "  <thead>\n",
       "    <tr style=\"text-align: right;\">\n",
       "      <th></th>\n",
       "      <th>rank</th>\n",
       "      <th>HDI</th>\n",
       "      <th>life_expectancy</th>\n",
       "      <th>expect_schooling_years</th>\n",
       "      <th>mean_schooling_years</th>\n",
       "      <th>GNI_per_capita</th>\n",
       "      <th>HDI rank</th>\n",
       "    </tr>\n",
       "  </thead>\n",
       "  <tbody>\n",
       "    <tr>\n",
       "      <th>count</th>\n",
       "      <td>193.000000</td>\n",
       "      <td>193.000000</td>\n",
       "      <td>193.000000</td>\n",
       "      <td>193.000000</td>\n",
       "      <td>193.000000</td>\n",
       "      <td>193.000000</td>\n",
       "      <td>191.000000</td>\n",
       "    </tr>\n",
       "    <tr>\n",
       "      <th>mean</th>\n",
       "      <td>96.854922</td>\n",
       "      <td>0.723741</td>\n",
       "      <td>71.844560</td>\n",
       "      <td>13.535751</td>\n",
       "      <td>9.011917</td>\n",
       "      <td>0.145078</td>\n",
       "      <td>96.146597</td>\n",
       "    </tr>\n",
       "    <tr>\n",
       "      <th>std</th>\n",
       "      <td>55.911665</td>\n",
       "      <td>0.155177</td>\n",
       "      <td>7.861522</td>\n",
       "      <td>3.029098</td>\n",
       "      <td>3.221399</td>\n",
       "      <td>14.575939</td>\n",
       "      <td>55.675559</td>\n",
       "    </tr>\n",
       "    <tr>\n",
       "      <th>min</th>\n",
       "      <td>1.000000</td>\n",
       "      <td>0.380000</td>\n",
       "      <td>53.000000</td>\n",
       "      <td>5.600000</td>\n",
       "      <td>1.300000</td>\n",
       "      <td>-54.000000</td>\n",
       "      <td>1.000000</td>\n",
       "    </tr>\n",
       "    <tr>\n",
       "      <th>25%</th>\n",
       "      <td>49.000000</td>\n",
       "      <td>0.602000</td>\n",
       "      <td>65.900000</td>\n",
       "      <td>11.600000</td>\n",
       "      <td>6.500000</td>\n",
       "      <td>-9.000000</td>\n",
       "      <td>48.500000</td>\n",
       "    </tr>\n",
       "    <tr>\n",
       "      <th>50%</th>\n",
       "      <td>97.000000</td>\n",
       "      <td>0.740000</td>\n",
       "      <td>72.200000</td>\n",
       "      <td>13.300000</td>\n",
       "      <td>9.400000</td>\n",
       "      <td>2.000000</td>\n",
       "      <td>95.000000</td>\n",
       "    </tr>\n",
       "    <tr>\n",
       "      <th>75%</th>\n",
       "      <td>145.000000</td>\n",
       "      <td>0.847000</td>\n",
       "      <td>77.900000</td>\n",
       "      <td>15.700000</td>\n",
       "      <td>11.700000</td>\n",
       "      <td>9.000000</td>\n",
       "      <td>144.500000</td>\n",
       "    </tr>\n",
       "    <tr>\n",
       "      <th>max</th>\n",
       "      <td>193.000000</td>\n",
       "      <td>0.967000</td>\n",
       "      <td>84.800000</td>\n",
       "      <td>21.100000</td>\n",
       "      <td>14.300000</td>\n",
       "      <td>40.000000</td>\n",
       "      <td>192.000000</td>\n",
       "    </tr>\n",
       "  </tbody>\n",
       "</table>\n",
       "</div>"
      ],
      "text/plain": [
       "             rank         HDI  life_expectancy  expect_schooling_years  \\\n",
       "count  193.000000  193.000000       193.000000              193.000000   \n",
       "mean    96.854922    0.723741        71.844560               13.535751   \n",
       "std     55.911665    0.155177         7.861522                3.029098   \n",
       "min      1.000000    0.380000        53.000000                5.600000   \n",
       "25%     49.000000    0.602000        65.900000               11.600000   \n",
       "50%     97.000000    0.740000        72.200000               13.300000   \n",
       "75%    145.000000    0.847000        77.900000               15.700000   \n",
       "max    193.000000    0.967000        84.800000               21.100000   \n",
       "\n",
       "       mean_schooling_years  GNI_per_capita    HDI rank  \n",
       "count            193.000000      193.000000  191.000000  \n",
       "mean               9.011917        0.145078   96.146597  \n",
       "std                3.221399       14.575939   55.675559  \n",
       "min                1.300000      -54.000000    1.000000  \n",
       "25%                6.500000       -9.000000   48.500000  \n",
       "50%                9.400000        2.000000   95.000000  \n",
       "75%               11.700000        9.000000  144.500000  \n",
       "max               14.300000       40.000000  192.000000  "
      ]
     },
     "execution_count": 42,
     "metadata": {},
     "output_type": "execute_result"
    }
   ],
   "source": [
    "data_description"
   ]
  },
  {
   "cell_type": "markdown",
   "metadata": {},
   "source": [
    "---\n",
    "\n",
    "# Correlation between life expectancy and educational attainment"
   ]
  },
  {
   "cell_type": "markdown",
   "metadata": {},
   "source": [
    "We have two datasets relating to SDG 4 Quality education. \n",
    "\n",
    "For our arbitrary case, we'll focus on SDG 4.4 (mean school years) beacuse we are trying to determine how much education a country has affects its life expectancy. Therefore the mean school education will be the independent variable and the life expectancy will be the dependent variable."
   ]
  },
  {
   "cell_type": "code",
   "execution_count": 43,
   "metadata": {},
   "outputs": [
    {
     "data": {
      "text/markdown": [
       "Life Expectancy: "
      ],
      "text/plain": [
       "<IPython.core.display.Markdown object>"
      ]
     },
     "metadata": {},
     "output_type": "display_data"
    },
    {
     "data": {
      "text/markdown": [
       "$$\\mu=71.84$$"
      ],
      "text/plain": [
       "<IPython.core.display.Markdown object>"
      ]
     },
     "metadata": {},
     "output_type": "display_data"
    },
    {
     "data": {
      "text/markdown": [
       "$$\\sigma=7.86$$"
      ],
      "text/plain": [
       "<IPython.core.display.Markdown object>"
      ]
     },
     "metadata": {},
     "output_type": "display_data"
    }
   ],
   "source": [
    "display(Markdown(f\"Life Expectancy: \"))\n",
    "display(Markdown(f\"$$\\mu={data.life_expectancy.mean():.2f}$$\"))\n",
    "display(Markdown(f\"$$\\sigma={data.life_expectancy.std():.2f}$$\"))"
   ]
  },
  {
   "cell_type": "code",
   "execution_count": 44,
   "metadata": {},
   "outputs": [
    {
     "data": {
      "text/markdown": [
       "Mean Schooling years: "
      ],
      "text/plain": [
       "<IPython.core.display.Markdown object>"
      ]
     },
     "metadata": {},
     "output_type": "display_data"
    },
    {
     "data": {
      "text/markdown": [
       "$$\\mu=9.01$$"
      ],
      "text/plain": [
       "<IPython.core.display.Markdown object>"
      ]
     },
     "metadata": {},
     "output_type": "display_data"
    },
    {
     "data": {
      "text/markdown": [
       "$$\\sigma=3.22$$"
      ],
      "text/plain": [
       "<IPython.core.display.Markdown object>"
      ]
     },
     "metadata": {},
     "output_type": "display_data"
    }
   ],
   "source": [
    "display(Markdown(f\"Mean Schooling years: \"))\n",
    "display(Markdown(f\"$$\\mu={data.mean_schooling_years.mean():.2f}$$\"))\n",
    "display(Markdown(f\"$$\\sigma={data.mean_schooling_years.std():.2f}$$\"))"
   ]
  },
  {
   "cell_type": "code",
   "execution_count": 45,
   "metadata": {},
   "outputs": [
    {
     "data": {
      "image/png": "[encoded data removed]",
      "text/plain": [
       "<Figure size 640x480 with 1 Axes>"
      ]
     },
     "metadata": {},
     "output_type": "display_data"
    }
   ],
   "source": [
    "# independent variable, dependent variable\n",
    "life_expectancy = data[\"life_expectancy\"]\n",
    "mean_schooling_years = data[\"mean_schooling_years\"]\n",
    "\n",
    "# the indepdent variable is plotted on the x axis and dependent variable is plotted on the y axis\n",
    "plt.scatter(mean_schooling_years, life_expectancy, color=\"g\", alpha=0.5)\n",
    "plt.title(\"Mean Schooling Years and Life expectancy\")\n",
    "plt.xlabel(\"mean school years\")\n",
    "plt.ylabel(\"life expectancy\")\n",
    "plt.show()"
   ]
  },
  {
   "cell_type": "code",
   "execution_count": 46,
   "metadata": {},
   "outputs": [
    {
     "name": "stdout",
     "output_type": "stream",
     "text": [
      "Pearsons Correlation Coefficient: 0.72\n"
     ]
    },
    {
     "data": {
      "text/markdown": [
       "$$r=0.72$$"
      ],
      "text/plain": [
       "<IPython.core.display.Markdown object>"
      ]
     },
     "metadata": {},
     "output_type": "display_data"
    }
   ],
   "source": [
    "r = mean_schooling_years.corr(life_expectancy)\n",
    "print(f\"Pearsons Correlation Coefficient: {r:.2f}\")\n",
    "display(Markdown(f\"$$r={r:.2f}$$\"))"
   ]
  },
  {
   "cell_type": "markdown",
   "metadata": {},
   "source": [
    "|Correlation Coefficient (r)|\tInterpretation|\n",
    "| --- | --- |\n",
    "| 1.0 | Perfect Positive Correlation |\n",
    "| 0.7 to 0.99 | Strong Positive Correlation |\n",
    "| 0.3 to 0.69 |\tModerate Positive Correlation |\n",
    "| 0 to 0.29\t| Weak Positive Correlation |\n",
    "| 0\t| No Correlation | \n",
    "| -0.29 to 0 | Weak Negative Correlation | \n",
    "| -0.3 to -0.69 |\tModerate Negative Correlation |\n",
    "| -0.7 to -0.99\t| Strong Negative Correlation |\n",
    "| -1.0\tPerfect | Negative Correlation |"
   ]
  },
  {
   "cell_type": "code",
   "execution_count": 47,
   "metadata": {},
   "outputs": [
    {
     "data": {
      "text/markdown": [
       "$$r^2=0.52$$"
      ],
      "text/plain": [
       "<IPython.core.display.Markdown object>"
      ]
     },
     "metadata": {},
     "output_type": "display_data"
    }
   ],
   "source": [
    "# coefficient of determinance, how much the data fits the model\n",
    "display(Markdown(f\"$$r^2={(r*r):.2f}$$\"))"
   ]
  },
  {
   "cell_type": "markdown",
   "metadata": {},
   "source": [
    "A $r^2$ of 0.52 indicates "
   ]
  },
  {
   "cell_type": "markdown",
   "metadata": {},
   "source": [
    "$$y=mx + b$$\n",
    "\n",
    "* $y$ is the dependent variable\n",
    "* $x$ is the independent variable\n",
    "* $b$ is the intercept of the regression line when the expected value of $y$ when $x = 0$\n",
    "* $m$ is the slope of the regression line, the change in $y$ for one unit increase in $x$"
   ]
  },
  {
   "cell_type": "code",
   "execution_count": 48,
   "metadata": {},
   "outputs": [
    {
     "name": "stdout",
     "output_type": "stream",
     "text": [
      "The equation of the regression line is: Life Expectancy = 1.75 * mean_schooling_years + 56.04\n"
     ]
    },
    {
     "data": {
      "text/markdown": [
       "$$y = 56.04 + 1.75x$$"
      ],
      "text/plain": [
       "<IPython.core.display.Markdown object>"
      ]
     },
     "metadata": {},
     "output_type": "display_data"
    }
   ],
   "source": [
    "slope, intercept = np.polyfit(mean_schooling_years, life_expectancy, 1)\n",
    "\n",
    "# create the regression line\n",
    "data['predicted_life_expectancy'] = intercept + slope * mean_schooling_years\n",
    "\n",
    "print(f'The equation of the regression line is: Life Expectancy = {slope:.2f} * mean_schooling_years + {intercept:.2f}')\n",
    "display(Markdown(f\"$$y = {slope:.2f}x + {intercept:.2f}$$\"))"
   ]
  },
  {
   "cell_type": "code",
   "execution_count": 49,
   "metadata": {},
   "outputs": [
    {
     "data": {
      "image/png": "[encoded data removed]",
      "text/plain": [
       "<Figure size 640x480 with 1 Axes>"
      ]
     },
     "metadata": {},
     "output_type": "display_data"
    }
   ],
   "source": [
    "# Plot the regression line\n",
    "plt.plot(mean_schooling_years, data['predicted_life_expectancy'], color='red', label='Regression Line')\n",
    "\n",
    "# the indepdent variable is plotted on the x axis and dependent variable is plotted on the y axis\n",
    "plt.scatter(mean_schooling_years, life_expectancy, color=\"g\", alpha=0.5)\n",
    "plt.title(\"Mean Schooling Years and Life expectancy\")\n",
    "plt.xlabel(\"mean school years\")\n",
    "plt.ylabel(\"life expectancy\")\n",
    "plt.legend()\n",
    "plt.show()"
   ]
  }
 ],
 "metadata": {
  "kernelspec": {
   "display_name": "Python 3",
   "language": "python",
   "name": "python3"
  },
  "language_info": {
   "codemirror_mode": {
    "name": "ipython",
    "version": 3
   },
   "file_extension": ".py",
   "mimetype": "text/x-python",
   "name": "python",
   "nbconvert_exporter": "python",
   "pygments_lexer": "ipython3",
   "version": "3.8.2"
  }
 },
 "nbformat": 4,
 "nbformat_minor": 2
}
